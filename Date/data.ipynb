{
 "cells": [
  {
   "cell_type": "code",
   "execution_count": 2,
   "metadata": {},
   "outputs": [],
   "source": [
    "import pandas as pd"
   ]
  },
  {
   "cell_type": "code",
   "execution_count": 3,
   "metadata": {},
   "outputs": [],
   "source": [
    "painel = pd.read_csv('base.csv')"
   ]
  },
  {
   "cell_type": "code",
   "execution_count": 4,
   "metadata": {},
   "outputs": [
    {
     "data": {
      "text/html": [
       "<div>\n",
       "<style scoped>\n",
       "    .dataframe tbody tr th:only-of-type {\n",
       "        vertical-align: middle;\n",
       "    }\n",
       "\n",
       "    .dataframe tbody tr th {\n",
       "        vertical-align: top;\n",
       "    }\n",
       "\n",
       "    .dataframe thead th {\n",
       "        text-align: right;\n",
       "    }\n",
       "</style>\n",
       "<table border=\"1\" class=\"dataframe\">\n",
       "  <thead>\n",
       "    <tr style=\"text-align: right;\">\n",
       "      <th></th>\n",
       "      <th>Unnamed: 0</th>\n",
       "      <th>index</th>\n",
       "      <th>BBDC4</th>\n",
       "      <th>BBDC3</th>\n",
       "      <th>BBAS3</th>\n",
       "      <th>B3SA3</th>\n",
       "      <th>ABEV3</th>\n",
       "      <th>CESP6</th>\n",
       "      <th>BRAP4</th>\n",
       "      <th>BRKM5</th>\n",
       "      <th>...</th>\n",
       "      <th>BBSE3</th>\n",
       "      <th>KLBN11</th>\n",
       "      <th>CVCB3</th>\n",
       "      <th>ENEV3</th>\n",
       "      <th>TIET11</th>\n",
       "      <th>ENGI11</th>\n",
       "      <th>STBP3</th>\n",
       "      <th>MOVI3</th>\n",
       "      <th>RAIL3</th>\n",
       "      <th>AZUL4</th>\n",
       "    </tr>\n",
       "  </thead>\n",
       "  <tbody>\n",
       "    <tr>\n",
       "      <td>0</td>\n",
       "      <td>0</td>\n",
       "      <td>2009-12-09</td>\n",
       "      <td>-0.009209</td>\n",
       "      <td>0.012425</td>\n",
       "      <td>0.011618</td>\n",
       "      <td>0.002313</td>\n",
       "      <td>0.003082</td>\n",
       "      <td>0.001537</td>\n",
       "      <td>0.015624</td>\n",
       "      <td>0.0</td>\n",
       "      <td>...</td>\n",
       "      <td>0.0</td>\n",
       "      <td>0.0</td>\n",
       "      <td>0.0</td>\n",
       "      <td>0.0</td>\n",
       "      <td>0.0</td>\n",
       "      <td>0.0</td>\n",
       "      <td>0.0</td>\n",
       "      <td>0.0</td>\n",
       "      <td>0.0</td>\n",
       "      <td>0.0</td>\n",
       "    </tr>\n",
       "    <tr>\n",
       "      <td>1</td>\n",
       "      <td>1</td>\n",
       "      <td>2009-12-10</td>\n",
       "      <td>-0.007282</td>\n",
       "      <td>-0.042098</td>\n",
       "      <td>-0.010450</td>\n",
       "      <td>-0.001315</td>\n",
       "      <td>0.000000</td>\n",
       "      <td>0.000000</td>\n",
       "      <td>-0.024002</td>\n",
       "      <td>0.0</td>\n",
       "      <td>...</td>\n",
       "      <td>0.0</td>\n",
       "      <td>0.0</td>\n",
       "      <td>0.0</td>\n",
       "      <td>0.0</td>\n",
       "      <td>0.0</td>\n",
       "      <td>0.0</td>\n",
       "      <td>0.0</td>\n",
       "      <td>0.0</td>\n",
       "      <td>0.0</td>\n",
       "      <td>0.0</td>\n",
       "    </tr>\n",
       "    <tr>\n",
       "      <td>2</td>\n",
       "      <td>2</td>\n",
       "      <td>2009-12-11</td>\n",
       "      <td>0.000000</td>\n",
       "      <td>0.000000</td>\n",
       "      <td>0.013605</td>\n",
       "      <td>-0.020126</td>\n",
       "      <td>0.000000</td>\n",
       "      <td>0.000000</td>\n",
       "      <td>0.000000</td>\n",
       "      <td>0.0</td>\n",
       "      <td>...</td>\n",
       "      <td>0.0</td>\n",
       "      <td>0.0</td>\n",
       "      <td>0.0</td>\n",
       "      <td>0.0</td>\n",
       "      <td>0.0</td>\n",
       "      <td>0.0</td>\n",
       "      <td>0.0</td>\n",
       "      <td>0.0</td>\n",
       "      <td>0.0</td>\n",
       "      <td>0.0</td>\n",
       "    </tr>\n",
       "    <tr>\n",
       "      <td>3</td>\n",
       "      <td>3</td>\n",
       "      <td>2009-12-14</td>\n",
       "      <td>0.000000</td>\n",
       "      <td>-0.000104</td>\n",
       "      <td>0.000000</td>\n",
       "      <td>0.000000</td>\n",
       "      <td>0.000000</td>\n",
       "      <td>0.000000</td>\n",
       "      <td>0.000000</td>\n",
       "      <td>0.0</td>\n",
       "      <td>...</td>\n",
       "      <td>0.0</td>\n",
       "      <td>0.0</td>\n",
       "      <td>0.0</td>\n",
       "      <td>0.0</td>\n",
       "      <td>0.0</td>\n",
       "      <td>0.0</td>\n",
       "      <td>0.0</td>\n",
       "      <td>0.0</td>\n",
       "      <td>0.0</td>\n",
       "      <td>0.0</td>\n",
       "    </tr>\n",
       "    <tr>\n",
       "      <td>4</td>\n",
       "      <td>4</td>\n",
       "      <td>2009-12-15</td>\n",
       "      <td>0.010576</td>\n",
       "      <td>-0.009944</td>\n",
       "      <td>-0.000091</td>\n",
       "      <td>0.000000</td>\n",
       "      <td>0.013813</td>\n",
       "      <td>0.008409</td>\n",
       "      <td>0.000000</td>\n",
       "      <td>0.0</td>\n",
       "      <td>...</td>\n",
       "      <td>0.0</td>\n",
       "      <td>0.0</td>\n",
       "      <td>0.0</td>\n",
       "      <td>0.0</td>\n",
       "      <td>0.0</td>\n",
       "      <td>0.0</td>\n",
       "      <td>0.0</td>\n",
       "      <td>0.0</td>\n",
       "      <td>0.0</td>\n",
       "      <td>0.0</td>\n",
       "    </tr>\n",
       "  </tbody>\n",
       "</table>\n",
       "<p>5 rows × 94 columns</p>\n",
       "</div>"
      ],
      "text/plain": [
       "   Unnamed: 0       index     BBDC4     BBDC3     BBAS3     B3SA3     ABEV3  \\\n",
       "0           0  2009-12-09 -0.009209  0.012425  0.011618  0.002313  0.003082   \n",
       "1           1  2009-12-10 -0.007282 -0.042098 -0.010450 -0.001315  0.000000   \n",
       "2           2  2009-12-11  0.000000  0.000000  0.013605 -0.020126  0.000000   \n",
       "3           3  2009-12-14  0.000000 -0.000104  0.000000  0.000000  0.000000   \n",
       "4           4  2009-12-15  0.010576 -0.009944 -0.000091  0.000000  0.013813   \n",
       "\n",
       "      CESP6     BRAP4  BRKM5  ...  BBSE3  KLBN11  CVCB3  ENEV3  TIET11  \\\n",
       "0  0.001537  0.015624    0.0  ...    0.0     0.0    0.0    0.0     0.0   \n",
       "1  0.000000 -0.024002    0.0  ...    0.0     0.0    0.0    0.0     0.0   \n",
       "2  0.000000  0.000000    0.0  ...    0.0     0.0    0.0    0.0     0.0   \n",
       "3  0.000000  0.000000    0.0  ...    0.0     0.0    0.0    0.0     0.0   \n",
       "4  0.008409  0.000000    0.0  ...    0.0     0.0    0.0    0.0     0.0   \n",
       "\n",
       "   ENGI11  STBP3  MOVI3  RAIL3  AZUL4  \n",
       "0     0.0    0.0    0.0    0.0    0.0  \n",
       "1     0.0    0.0    0.0    0.0    0.0  \n",
       "2     0.0    0.0    0.0    0.0    0.0  \n",
       "3     0.0    0.0    0.0    0.0    0.0  \n",
       "4     0.0    0.0    0.0    0.0    0.0  \n",
       "\n",
       "[5 rows x 94 columns]"
      ]
     },
     "execution_count": 4,
     "metadata": {},
     "output_type": "execute_result"
    }
   ],
   "source": [
    "painel"
   ]
  },
  {
   "cell_type": "code",
   "execution_count": 8,
   "metadata": {},
   "outputs": [
    {
     "data": {
      "text/plain": [
       "Unnamed: 0      int64\n",
       "index          object\n",
       "BBDC4         float64\n",
       "BBDC3         float64\n",
       "BBAS3         float64\n",
       "               ...   \n",
       "ENGI11        float64\n",
       "STBP3         float64\n",
       "MOVI3         float64\n",
       "RAIL3         float64\n",
       "AZUL4         float64\n",
       "Length: 94, dtype: object"
      ]
     },
     "execution_count": 8,
     "metadata": {},
     "output_type": "execute_result"
    }
   ],
   "source": [
    "painel.dtypes"
   ]
  },
  {
   "cell_type": "markdown",
   "metadata": {},
   "source": [
    "### Transform datetime"
   ]
  },
  {
   "cell_type": "code",
   "execution_count": 9,
   "metadata": {},
   "outputs": [],
   "source": [
    "painel['index'] = pd.to_datetime(painel['index'], format='%Y-%m-%d')"
   ]
  },
  {
   "cell_type": "code",
   "execution_count": 10,
   "metadata": {},
   "outputs": [
    {
     "data": {
      "text/plain": [
       "Unnamed: 0             int64\n",
       "index         datetime64[ns]\n",
       "BBDC4                float64\n",
       "BBDC3                float64\n",
       "BBAS3                float64\n",
       "                   ...      \n",
       "ENGI11               float64\n",
       "STBP3                float64\n",
       "MOVI3                float64\n",
       "RAIL3                float64\n",
       "AZUL4                float64\n",
       "Length: 94, dtype: object"
      ]
     },
     "execution_count": 10,
     "metadata": {},
     "output_type": "execute_result"
    }
   ],
   "source": [
    "painel.dtypes"
   ]
  },
  {
   "cell_type": "code",
   "execution_count": null,
   "metadata": {},
   "outputs": [],
   "source": []
  }
 ],
 "metadata": {
  "kernelspec": {
   "display_name": "Python 3",
   "language": "python",
   "name": "python3"
  },
  "language_info": {
   "codemirror_mode": {
    "name": "ipython",
    "version": 3
   },
   "file_extension": ".py",
   "mimetype": "text/x-python",
   "name": "python",
   "nbconvert_exporter": "python",
   "pygments_lexer": "ipython3",
   "version": "3.7.1"
  }
 },
 "nbformat": 4,
 "nbformat_minor": 2
}
